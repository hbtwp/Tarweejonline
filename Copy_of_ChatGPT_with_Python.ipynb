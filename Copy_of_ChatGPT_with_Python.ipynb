{
  "nbformat": 4,
  "nbformat_minor": 0,
  "metadata": {
    "colab": {
      "provenance": [],
      "include_colab_link": true
    },
    "kernelspec": {
      "name": "python3",
      "display_name": "Python 3"
    },
    "language_info": {
      "name": "python"
    }
  },
  "cells": [
    {
      "cell_type": "markdown",
      "metadata": {
        "id": "view-in-github",
        "colab_type": "text"
      },
      "source": [
        "<a href=\"https://colab.research.google.com/github/hbtwp/Tarweejonline/blob/main/Copy_of_ChatGPT_with_Python.ipynb\" target=\"_parent\"><img src=\"https://colab.research.google.com/assets/colab-badge.svg\" alt=\"Open In Colab\"/></a>"
      ]
    },
    {
      "cell_type": "code",
      "execution_count": null,
      "metadata": {
        "colab": {
          "base_uri": "https://localhost:8080/",
          "height": 399
        },
        "id": "AeTwSfZum1OQ",
        "outputId": "c4393583-aad6-4496-e075-88ea34e4c6dc"
      },
      "outputs": [
        {
          "output_type": "stream",
          "name": "stdout",
          "text": [
            "Looking in indexes: https://pypi.org/simple, https://us-python.pkg.dev/colab-wheels/public/simple/\n",
            "Collecting pyChatGPT\n",
            "  Downloading pyChatGPT-0.1.0-py3-none-any.whl (17 kB)\n",
            "Collecting uuid\n",
            "  Downloading uuid-1.30.tar.gz (5.8 kB)\n",
            "Requirement already satisfied: requests in /usr/local/lib/python3.8/dist-packages (from pyChatGPT) (2.23.0)\n",
            "Requirement already satisfied: certifi>=2017.4.17 in /usr/local/lib/python3.8/dist-packages (from requests->pyChatGPT) (2022.9.24)\n",
            "Requirement already satisfied: urllib3!=1.25.0,!=1.25.1,<1.26,>=1.21.1 in /usr/local/lib/python3.8/dist-packages (from requests->pyChatGPT) (1.24.3)\n",
            "Requirement already satisfied: chardet<4,>=3.0.2 in /usr/local/lib/python3.8/dist-packages (from requests->pyChatGPT) (3.0.4)\n",
            "Requirement already satisfied: idna<3,>=2.5 in /usr/local/lib/python3.8/dist-packages (from requests->pyChatGPT) (2.10)\n",
            "Building wheels for collected packages: uuid\n",
            "  Building wheel for uuid (setup.py) ... \u001b[?25l\u001b[?25hdone\n",
            "  Created wheel for uuid: filename=uuid-1.30-py3-none-any.whl size=6502 sha256=795a2cb8c393695a1c6b84342e71874df34a5088b9226daf1b21740ede89b791\n",
            "  Stored in directory: /root/.cache/pip/wheels/1b/6c/cb/f9aae2bc97333c3d6e060826c1ee9e44e46306a178e5783505\n",
            "Successfully built uuid\n",
            "Installing collected packages: uuid, pyChatGPT\n",
            "Successfully installed pyChatGPT-0.1.0 uuid-1.30\n"
          ]
        },
        {
          "output_type": "display_data",
          "data": {
            "application/vnd.colab-display-data+json": {
              "pip_warning": {
                "packages": [
                  "uuid"
                ]
              }
            }
          },
          "metadata": {}
        }
      ],
      "source": [
        "#!pip install pyChatGPT"
      ]
    },
    {
      "cell_type": "code",
      "source": [
        "from pyChatGPT import ChatGPT"
      ],
      "metadata": {
        "id": "4s2lpskbnH_e"
      },
      "execution_count": null,
      "outputs": []
    },
    {
      "cell_type": "code",
      "source": [
        "session_token = 'eyJhbGciOiJkaXIiLCJlbmMiOiJBMjU2R0NNIn0..BPIDY0AxIATHvGK1.RZ4KxGiERTlK3tbzekOlZkHJM3hkBNyVmHsInMmUs63VJ2pwI1EprgR1kP3qff1BFkINME1YvCemV4o7_z0W8cu2I0TsfdCRzVbdfwCPDpN9EVgAzQUxGtQkIYySM_b2gpRQ4db3kCxqQRMdZ97rf5PlwdQhg1wd55Na6Hub_tYLdIvatq3If60vyJZLR5gfrPdLdwv7-erXCR0RZ8wI50YPC9qbd6TZlsG8vdqjs6OuZgO3Cqr7vfa01kcM4EHDkgB90uh3Sx8SkOiU3hqfr9cnpO6IBGrx9tNmWKBIsW5Op-kdWXt6HjPRc-fh6HFlAg5iZYgOLw81TyoJqygoEadvOtFOeoObBZe3cDIUhjbWAME5DkKkS60LOSv8Q4LH0Yh_qMFcosq8GO9j18OrG2hxdM7cy2d3LAkkBdd5k4yxe_aaQyT-P4rR6UZaEVmAPD86uxyQ3oSIED8jtE9Xk9dPTQ_T6e3loCyqgXM_56v6rzbu-4pIB0tY8u9AJs09VcOlxE0r8OByUd_1InY7ZEt-CCh5oGEzI0fmccMp2O8EiJu5SrqTKtkocUyJemT0TJ6EKe8SWoUW47sp_ZpVksQQ4x6xx3y9ROlEgSf8sc-K579DkgmC3uLkYRtOU36LZz4ig29UrOaXJXfaNSEQ2JiFurdcZBbAJZahwdCcl0ct67MUnPnmQk1pG0EJPvcUBJv2zprZAnTcBoaB8VYPAvob5CYcqcv15xs9Vd3QwHWNTPVLmXL0CK1B0pZhlsY9s-lVaW5uWhDoC6OtxE-ze7sGpFSeAGwDLktyM9cW_Skhy8Bn3Eci0O4uTE2FF99yVuS15OSeex-77v7QSoSD-0ANf9KU70RD1CvIyHcu5BYhHq6r2JFZBp2b8pj7X59XX1uTGJ83IQ_Lf0Zw-Pcjp5rQbxxEwDlX5PQXtCtomSuq6mGg6JRpLleL4JbjhjORegWpVuGR82-q7IIjwzEHiCmYfRHyD4_1-hI9j4zexNpwb9YqyA0Nn3IuPTchdR-3Wtr930GP5SPa_dMMGiRbTfuWYsXavbs3uf_6m7UepguzZ2rSeiRp9PvCOb4957ztdOwBR_2FnvHxfYRH0GmkKZQPrwE3P_xvf53Yx6xWV4Qhk9sKF4ZSImk_QlglBANYLFXxoNyiVv9z1FvB_ZuuDNvit-qWxiBKzfPsl3H9UnKGXODk-Kve_bfgh79vxbOHp8Cp9q1mUa84qyrmibSg5TzOBc8XcGfJuCw6e4gCNCNZ7GWp5RwmtFqOCeb3v_Wdrn3ub1zy5rzG7g00J1wG-gljzHFLVsqVdIEKr8aoFsDh8id2nCXk4O9UHWIJI8qAX7DHnsrJ-BLGbkCWSr0s-AcRWHfWsFWYa94qyz3iJMg2YoDirPmAt9HgFmW9TBhEhKi2irH_M3wJdXhLIUFtLR1rXzEmO541Y-Poy1NdDZ9R9EuuVqTh5vmNSIkR-zEAn71QKlA_knOgNkjQjalFbe15XwydNWh_OIU8lZJ3eDNVpqSpTxaf7TvDilJRyEpG5B-1W4mlzped671G2UXTOeFsggUIee8QaKwXxiK_zmEs8b8htho9R3xMeGm6tBcWVl7uYpEUyEC-l4NZBih2fjSNvgCHfVsTy69O8uezTLMCpmxYlLNTaPdipfENGtOFbeOSkseE_DlOXweknCon1Zeb3YC0Gk6X12TYELTgEzxIx_1AvniW8jHBhVuEITND25Qd5wNZqdFEVI534bnWk553y_FMhR34pb9K607Hv_HqlPmxKUPLjl7QMdPPrNBfG8V6XwKwul8wnGH-fQG3XELEtpMqVfBUwO4jXm9OV7LtWK39TInOxZ6Qtk0-j_4BlCXWA9_fXuRdkixbWdOqgqc85TtQVUZBnBjbsxhVmUtqGja95qvjGb6yoIOA_D9TxoLh8s1afNhb9RRzHALjtWmLDx_iW81UYrkYQ81sNM0FyBqDrALqAXS3_4pnBwt14LgHablAARxPLz_xwWcYCQ60CMDvTK5RGViJAdVzDMwv3djhSkNcozgH6dj2mEz-XITwJ5ceaB91uVq4LUDP-zwLJUKmLUmO0nomx996X3KwTy0teR6oQq5Sh0DCrj1ta9zNaP7WD_vOEOA93mvUE5eeyQJ4sRy4k-3_SmZ-5-6lQrZJT_0jsxryWbXHWeWuUoj6gHDFttRZ9gWAC0xuk3LzsSn5OrnWeeWSsrdF_ot0lzldqQjQMcjMaG3eF_2kr5i1ONdPsy-g11kqcw.dLDQdByKGl9kmkH28tOl7g'  # `__Secure-next-auth.session-token` cookie from https://chat.openai.com/chat\n",
        "api = ChatGPT(session_token)  # auth with session token"
      ],
      "metadata": {
        "id": "TQSR5zW8nMgJ",
        "outputId": "cc762b7a-fc37-4c41-ef60-7059ef1bb5f3",
        "colab": {
          "base_uri": "https://localhost:8080/"
        }
      },
      "execution_count": null,
      "outputs": [
        {
          "output_type": "stream",
          "name": "stderr",
          "text": [
            "WARNING:urllib3.connectionpool:Connection pool is full, discarding connection: localhost. Connection pool size: 1\n",
            "WARNING:urllib3.connectionpool:Connection pool is full, discarding connection: localhost. Connection pool size: 1\n",
            "WARNING:urllib3.connectionpool:Connection pool is full, discarding connection: localhost. Connection pool size: 1\n"
          ]
        }
      ]
    },
    {
      "cell_type": "code",
      "source": [
        "# api2 = ChatGPT(email='example@domain.com', password='password')  # auth with email and password\n",
        "# api3 = ChatGPT(session_token, conversation_id='some-random-uuid')  # specify a conversation id\n",
        "# api4 = ChatGPT(session_token, proxy='http://proxy.example.com:8080')  # specify proxy\n"
      ],
      "metadata": {
        "id": "8p0eX8IPnOHF"
      },
      "execution_count": null,
      "outputs": []
    },
    {
      "cell_type": "code",
      "source": [
        "resp = api.send_message('Write an essay on Generative AI')\n",
        "print(resp['message'])"
      ],
      "metadata": {
        "colab": {
          "base_uri": "https://localhost:8080/"
        },
        "id": "Rp48i5StnZMe",
        "outputId": "18f9e0fb-02e0-43cf-9f18-12aacd6f6aa3"
      },
      "execution_count": null,
      "outputs": [
        {
          "output_type": "stream",
          "name": "stdout",
          "text": [
            "Generative AI is a type of artificial intelligence that is focused on generating new content, rather than simply recognizing or classifying existing content. This is achieved by training a generative model on a large dataset, which allows the model to learn the patterns and structures of the data, and then using that knowledge to generate new, original content.\n",
            "\n",
            "One of the key advantages of generative AI is its ability to produce a wide range of output. Because the model is not limited to reproducing only what it has seen before, it has the potential to generate a virtually limitless amount of content. This makes it a powerful tool for tasks such as data augmentation, where large amounts of additional data are needed to train other machine learning models.\n",
            "\n",
            "Another important advantage of generative AI is its ability to capture the nuances and complexity of real-world data. By learning from a large dataset, a generative model can capture the fine-grained details and patterns of the data, which allows it to produce more realistic output. This is particularly useful in tasks such as natural language processing, where the ability to generate fluent, coherent text is critical.\n",
            "\n",
            "Despite these advantages, there are also some limitations to generative AI. One of the main challenges is that it can be difficult to evaluate the quality of the generated content. Unlike other types of AI, where the output can be easily compared to ground truth data, it is not always clear how well a generative model is performing. Additionally, generative AI can sometimes produce content that is nonsensical or irrelevant, which can be frustrating for users.\n",
            "\n",
            "Overall, generative AI is a powerful tool for creating new content, and has the potential to revolutionize a wide range of industries. By learning the patterns and structures of real-world data, generative models can produce a vast amount of original content, which can be used for tasks such as data augmentation and natural language processing. While there are still some challenges to be overcome, the future of generative AI looks bright.\n"
          ]
        }
      ]
    },
    {
      "cell_type": "code",
      "source": [
        "\n",
        "api.refresh_auth()  # refresh the authorization token\n",
        "api.reset_conversation()  # reset the conversation"
      ],
      "metadata": {
        "id": "TgN9hwsmnBvX"
      },
      "execution_count": null,
      "outputs": []
    }
  ]
}